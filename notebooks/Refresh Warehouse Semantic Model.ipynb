{
 "cells": [
  {
   "cell_type": "code",
   "execution_count": 1,
   "id": "ae1c9110-2653-46e6-b388-0b990017ba44",
   "metadata": {
    "microsoft": {
     "language": "python",
     "language_group": "synapse_pyspark"
    }
   },
   "outputs": [
    {
     "data": {
      "application/vnd.livy.statement-meta+json": {
       "execution_finish_time": "2025-02-12T18:22:59.0653313Z",
       "execution_start_time": "2025-02-12T18:22:56.4570337Z",
       "livy_statement_state": "available",
       "normalized_state": "finished",
       "parent_msg_id": "edf3195c-7b82-481f-9fd7-7d343a0fb7aa",
       "queued_time": "2025-02-12T18:22:46.265518Z",
       "session_id": "37edba37-cf45-4ffb-a8f5-366be6ef3df0",
       "session_start_time": null,
       "spark_pool": null,
       "state": "finished",
       "statement_id": 3,
       "statement_ids": [
        3
       ]
      },
      "text/plain": [
       "StatementMeta(, 37edba37-cf45-4ffb-a8f5-366be6ef3df0, 3, Finished, Available, Finished)"
      ]
     },
     "metadata": {},
     "output_type": "display_data"
    },
    {
     "name": "stdout",
     "output_type": "stream",
     "text": [
      "Successfully imported all packages for this notebook.\n"
     ]
    }
   ],
   "source": [
    "#\n",
    "# Import Packages Required for this Notebook\n",
    "#\n",
    "from pyspark.sql import SparkSession\n",
    "import requests\n",
    "import json\n",
    "import msal\n",
    "import time\n",
    "\n",
    "print(\"Successfully imported all packages for this notebook.\")"
   ]
  },
  {
   "cell_type": "code",
   "execution_count": 3,
   "id": "ed3a7091-b608-44d9-89d9-7ce72d0548bc",
   "metadata": {
    "microsoft": {
     "language": "python",
     "language_group": "synapse_pyspark"
    }
   },
   "outputs": [
    {
     "data": {
      "application/vnd.livy.statement-meta+json": {
       "execution_finish_time": "2025-02-12T18:28:29.668149Z",
       "execution_start_time": "2025-02-12T18:28:28.7980279Z",
       "livy_statement_state": "available",
       "normalized_state": "finished",
       "parent_msg_id": "4be64f05-4959-4966-b535-71572427d6bc",
       "queued_time": "2025-02-12T18:28:28.6313089Z",
       "session_id": "37edba37-cf45-4ffb-a8f5-366be6ef3df0",
       "session_start_time": null,
       "spark_pool": null,
       "state": "finished",
       "statement_id": 5,
       "statement_ids": [
        5
       ]
      },
      "text/plain": [
       "StatementMeta(, 37edba37-cf45-4ffb-a8f5-366be6ef3df0, 5, Finished, Available, Finished)"
      ]
     },
     "metadata": {},
     "output_type": "display_data"
    },
    {
     "name": "stdout",
     "output_type": "stream",
     "text": [
      "Secret retrieved successfully (not displayed for security reasons).\n"
     ]
    }
   ],
   "source": [
    "#\n",
    "# Get required secrets from the key vault\n",
    "#\n",
    "vault_uri = \"https://kv-fabric-dev-eastus2.vault.azure.net/\"\n",
    "\n",
    "# Retrieve secret from Key Vault using mssparkutils\n",
    "TENANT_ID = mssparkutils.credentials.getSecret(vault_uri, \"TENANT-ID\")\n",
    "CLIENT_ID = mssparkutils.credentials.getSecret(vault_uri, \"CLIENT-ID\")\n",
    "CLIENT_SECRET = mssparkutils.credentials.getSecret(vault_uri, \"CLIENT-SECRET\")\n",
    "\n",
    "# Use the secret securely without printing\n",
    "print(\"Secrets retrieved successfully (not displayed for security reasons).\")"
   ]
  },
  {
   "cell_type": "code",
   "execution_count": null,
   "id": "f261d6b8-39ba-4d2f-950d-d11b0d6edb05",
   "metadata": {
    "microsoft": {
     "language": "python",
     "language_group": "synapse_pyspark"
    }
   },
   "outputs": [
    {
     "data": {
      "application/vnd.livy.statement-meta+json": {
       "execution_finish_time": "2025-02-12T18:50:29.1502997Z",
       "execution_start_time": "2025-02-12T18:50:28.909463Z",
       "livy_statement_state": "available",
       "normalized_state": "finished",
       "parent_msg_id": "3d2345ea-76a3-433c-807c-80f29e0511fc",
       "queued_time": "2025-02-12T18:50:28.7424554Z",
       "session_id": "37edba37-cf45-4ffb-a8f5-366be6ef3df0",
       "session_start_time": null,
       "spark_pool": null,
       "state": "finished",
       "statement_id": 21,
       "statement_ids": [
        21
       ]
      },
      "text/plain": [
       "StatementMeta(, 37edba37-cf45-4ffb-a8f5-366be6ef3df0, 21, Finished, Available, Finished)"
      ]
     },
     "metadata": {},
     "output_type": "display_data"
    },
    {
     "name": "stdout",
     "output_type": "stream",
     "text": [
      "The value of the tenant ID is [REDACTED]\n",
      "The value of the client ID is [REDACTED]\n",
      "The value of the client secret is [REDACTED]\n"
     ]
    }
   ],
   "source": [
    "#\n",
    "# Verify that key vault items cannot be viewed in clear text\n",
    "#\n",
    "print(f\"The value of the tenant ID is {TENANT_ID}\")\n",
    "print(f\"The value of the client ID is {CLIENT_ID}\")\n",
    "print(f\"The value of the client secret is {CLIENT_SECRET}\")"
   ]
  },
  {
   "cell_type": "code",
   "execution_count": 4,
   "id": "a219e4c3-d22c-4039-98ce-250a0b6be7df",
   "metadata": {
    "microsoft": {
     "language": "python",
     "language_group": "synapse_pyspark"
    }
   },
   "outputs": [
    {
     "data": {
      "application/vnd.livy.statement-meta+json": {
       "execution_finish_time": "2025-02-12T18:28:44.4495019Z",
       "execution_start_time": "2025-02-12T18:28:44.2064482Z",
       "livy_statement_state": "available",
       "normalized_state": "finished",
       "parent_msg_id": "f021cc08-0822-492c-8194-6569040a076a",
       "queued_time": "2025-02-12T18:28:44.0727497Z",
       "session_id": "37edba37-cf45-4ffb-a8f5-366be6ef3df0",
       "session_start_time": null,
       "spark_pool": null,
       "state": "finished",
       "statement_id": 6,
       "statement_ids": [
        6
       ]
      },
      "text/plain": [
       "StatementMeta(, 37edba37-cf45-4ffb-a8f5-366be6ef3df0, 6, Finished, Available, Finished)"
      ]
     },
     "metadata": {},
     "output_type": "display_data"
    },
    {
     "name": "stdout",
     "output_type": "stream",
     "text": [
      "Successfully configured all paramaters for this run.\n"
     ]
    }
   ],
   "source": [
    "#\n",
    "# Configure run-time parameters for this notebook\n",
    "#\n",
    "WORKSPACE_ID = \"3ac7ce42-ae74-4e7d-8ac3-5ce8358a30df\"\n",
    "DATASET_ID = \"6e5062c5-e912-48ca-93a9-a40c28a855ac\"\n",
    "\n",
    "print(\"Successfully configured all paramaters for this run.\")"
   ]
  },
  {
   "cell_type": "code",
   "execution_count": 5,
   "id": "56b7f45c-c889-4dda-ad69-dc9a013c8517",
   "metadata": {
    "microsoft": {
     "language": "python",
     "language_group": "synapse_pyspark"
    }
   },
   "outputs": [
    {
     "data": {
      "application/vnd.livy.statement-meta+json": {
       "execution_finish_time": "2025-02-12T18:29:00.2067025Z",
       "execution_start_time": "2025-02-12T18:28:59.4303868Z",
       "livy_statement_state": "available",
       "normalized_state": "finished",
       "parent_msg_id": "3ef0a590-d5c3-45af-ab18-4ee5c5327d11",
       "queued_time": "2025-02-12T18:28:59.2874036Z",
       "session_id": "37edba37-cf45-4ffb-a8f5-366be6ef3df0",
       "session_start_time": null,
       "spark_pool": null,
       "state": "finished",
       "statement_id": 7,
       "statement_ids": [
        7
       ]
      },
      "text/plain": [
       "StatementMeta(, 37edba37-cf45-4ffb-a8f5-366be6ef3df0, 7, Finished, Available, Finished)"
      ]
     },
     "metadata": {},
     "output_type": "display_data"
    },
    {
     "name": "stdout",
     "output_type": "stream",
     "text": [
      "✅ Access Token Retrieved Successfully!\n"
     ]
    }
   ],
   "source": [
    "#\n",
    "# Connect to Fabric and get the authorization token\n",
    "#\n",
    "\n",
    "# Azure AD Details\n",
    "scope = [\"https://analysis.windows.net/powerbi/api/.default\"]  # Fabric API scope\n",
    "authority = f\"https://login.microsoftonline.com/{TENANT_ID}\"\n",
    "\n",
    "# Create an MSAL application instance\n",
    "app = msal.ConfidentialClientApplication(CLIENT_ID, CLIENT_SECRET, authority)\n",
    "\n",
    "# Get the Access Token\n",
    "token_response = app.acquire_token_for_client(scopes=scope)\n",
    "\n",
    "# Check if the token was retrieved successfully\n",
    "if \"access_token\" in token_response:\n",
    "    access_token = token_response[\"access_token\"]\n",
    "    print(\"✅ Access Token Retrieved Successfully!\")\n",
    "else:\n",
    "    print(f\"❌ Error getting access token: {token_response.get('error_description')}\")"
   ]
  },
  {
   "cell_type": "code",
   "execution_count": 17,
   "id": "c68ce195-b899-4bc6-8221-f3a811ae147d",
   "metadata": {
    "microsoft": {
     "language": "python",
     "language_group": "synapse_pyspark"
    }
   },
   "outputs": [
    {
     "data": {
      "application/vnd.livy.statement-meta+json": {
       "execution_finish_time": "2025-02-12T18:46:22.5948215Z",
       "execution_start_time": "2025-02-12T18:46:21.8155279Z",
       "livy_statement_state": "available",
       "normalized_state": "finished",
       "parent_msg_id": "84da9671-d70b-4de4-89d9-7b3c1546e167",
       "queued_time": "2025-02-12T18:46:21.6638246Z",
       "session_id": "37edba37-cf45-4ffb-a8f5-366be6ef3df0",
       "session_start_time": null,
       "spark_pool": null,
       "state": "finished",
       "statement_id": 19,
       "statement_ids": [
        19
       ]
      },
      "text/plain": [
       "StatementMeta(, 37edba37-cf45-4ffb-a8f5-366be6ef3df0, 19, Finished, Available, Finished)"
      ]
     },
     "metadata": {},
     "output_type": "display_data"
    },
    {
     "name": "stdout",
     "output_type": "stream",
     "text": [
      "✅ Refresh successfully submitted for the Fabric Semantic Model!\n"
     ]
    }
   ],
   "source": [
    "#\n",
    "# Refresh the Warehouse semantic model (dataset) in the GOLD layer\n",
    "#\n",
    "\n",
    "# API Headers with Access Token\n",
    "headers = {\n",
    "    \"Authorization\": f\"Bearer {access_token}\",\n",
    "    \"Content-Type\": \"application/json\"\n",
    "}\n",
    "\n",
    "# Power BI API URL\n",
    "url = f\"https://api.powerbi.com/v1.0/myorg/groups/{WORKSPACE_ID}/datasets/{DATASET_ID}/refreshes\"\n",
    "\n",
    "# Execute the Power BI REST API\n",
    "response = requests.post(url, headers=headers)\n",
    "if response.status_code == 202:\n",
    "    print(\"✅ Refresh successfully submitted for the Fabric Semantic Model!\")\n",
    "else:\n",
    "    print(\"❌ Error:\", response.text)"
   ]
  },
  {
   "cell_type": "code",
   "execution_count": 18,
   "id": "1d58498b-f058-4f9d-9f90-fa13c5017beb",
   "metadata": {
    "microsoft": {
     "language": "python",
     "language_group": "synapse_pyspark"
    }
   },
   "outputs": [
    {
     "data": {
      "application/vnd.livy.statement-meta+json": {
       "execution_finish_time": "2025-02-12T18:46:46.0608731Z",
       "execution_start_time": "2025-02-12T18:46:24.974493Z",
       "livy_statement_state": "available",
       "normalized_state": "finished",
       "parent_msg_id": "3163f138-943c-4dca-bdd6-7508ba4ce63b",
       "queued_time": "2025-02-12T18:46:24.8440643Z",
       "session_id": "37edba37-cf45-4ffb-a8f5-366be6ef3df0",
       "session_start_time": null,
       "spark_pool": null,
       "state": "finished",
       "statement_id": 20,
       "statement_ids": [
        20
       ]
      },
      "text/plain": [
       "StatementMeta(, 37edba37-cf45-4ffb-a8f5-366be6ef3df0, 20, Finished, Available, Finished)"
      ]
     },
     "metadata": {},
     "output_type": "display_data"
    },
    {
     "name": "stdout",
     "output_type": "stream",
     "text": [
      "🟢 Current status: Unknown\n",
      "⚠️ Refresh in-progress. Sleeping...\n",
      "🟢 Current status: Unknown\n",
      "⚠️ Refresh in-progress. Sleeping...\n",
      "🟢 Current status: Completed\n",
      "✅ Dataset refresh completed successfully!\n"
     ]
    }
   ],
   "source": [
    "#\n",
    "# Check the Warehouse semantic model (dataset) refresh\n",
    "#\n",
    "\n",
    "# API Headers with Access Token\n",
    "headers = {\n",
    "    \"Authorization\": f\"Bearer {access_token}\",\n",
    "    \"Content-Type\": \"application/json\"\n",
    "}\n",
    "\n",
    "# Power BI API URL\n",
    "url = f\"https://api.powerbi.com/v1.0/myorg/groups/{WORKSPACE_ID}/datasets/{DATASET_ID}/refreshes\"\n",
    "\n",
    "# Function to check the refresh status and return when done\n",
    "def check_refresh_status():\n",
    "    \"\"\"Polls the API until the dataset refresh is 'Completed' or 'Failed'.\"\"\"\n",
    "    while True:\n",
    "        response = requests.get(url, headers=headers)\n",
    "\n",
    "        if response.status_code == 202:\n",
    "            print(\"🔄 Refresh request accepted. Waiting before polling again...\")\n",
    "            time.sleep(10)\n",
    "            continue  # Skip the rest and retry\n",
    "\n",
    "        if response.status_code == 200:\n",
    "            try:\n",
    "                response_json = response.json()\n",
    "                refreshes = response_json.get(\"value\", [])\n",
    "                if refreshes:\n",
    "                    latest_refresh = refreshes[0]  # Get the most recent refresh\n",
    "                    status = latest_refresh.get(\"status\")\n",
    "                    print(f\"🟢 Current status: {status}\")\n",
    "\n",
    "                    if status == \"Completed\":\n",
    "                        print(\"✅ Dataset refresh completed successfully!\")\n",
    "                        break\n",
    "                    elif status in [\"Failed\"]:\n",
    "                        print(\"❌ Dataset refresh failed or encountered an issue.\")\n",
    "                        break\n",
    "                    else:\n",
    "                        print(\"⚠️ Refresh in-progress. Sleeping...\")\n",
    "                else:\n",
    "                    print(\"⚠️ No refresh history found.\")\n",
    "                    break\n",
    "            except json.JSONDecodeError as e:\n",
    "                print(f\"❌ JSON decoding error: {e}. Raw response: {response.text}\")\n",
    "                break\n",
    "        else:\n",
    "            print(f\"❌ Error fetching refresh status: {response.status_code} - {response.text}\")\n",
    "            break\n",
    "\n",
    "        time.sleep(10)  # Wait 10 seconds before checking again\n",
    "\n",
    "# Start polling\n",
    "check_refresh_status()"
   ]
  }
 ],
 "metadata": {
  "dependencies": {
   "environment": {}
  },
  "kernel_info": {
   "name": "synapse_pyspark"
  },
  "kernelspec": {
   "display_name": "Synapse PySpark",
   "language": "Python",
   "name": "synapse_pyspark"
  },
  "language_info": {
   "name": "python"
  },
  "microsoft": {
   "language": "python",
   "language_group": "synapse_pyspark",
   "ms_spell_check": {
    "ms_spell_check_language": "en"
   }
  },
  "nteract": {
   "version": "nteract-front-end@1.0.0"
  },
  "spark_compute": {
   "compute_id": "/trident/default",
   "session_options": {
    "conf": {
     "spark.synapse.nbs.session.timeout": "1200000"
    }
   }
  }
 },
 "nbformat": 4,
 "nbformat_minor": 5
}
