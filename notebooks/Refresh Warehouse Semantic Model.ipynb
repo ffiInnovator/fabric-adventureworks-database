{
 "cells": [
  {
   "cell_type": "code",
   "execution_count": null,
   "id": "a219e4c3-d22c-4039-98ce-250a0b6be7df",
   "metadata": {
    "microsoft": {
     "language": "python",
     "language_group": "synapse_pyspark"
    }
   },
   "outputs": [
    {
     "data": {
      "application/vnd.livy.statement-meta+json": {
       "execution_finish_time": "2025-02-08T16:30:45.8622296Z",
       "execution_start_time": "2025-02-08T16:30:43.1696012Z",
       "livy_statement_state": "available",
       "normalized_state": "finished",
       "parent_msg_id": "c87cda85-1afa-46cd-8be2-a3af26240b29",
       "queued_time": "2025-02-08T16:30:32.8159554Z",
       "session_id": "c5e530bb-9e39-4188-96de-a390e451f2c7",
       "session_start_time": "2025-02-08T16:30:32.8171342Z",
       "spark_pool": null,
       "state": "finished",
       "statement_id": 3,
       "statement_ids": [
        3
       ]
      },
      "text/plain": [
       "StatementMeta(, c5e530bb-9e39-4188-96de-a390e451f2c7, 3, Finished, Available, Finished)"
      ]
     },
     "metadata": {},
     "output_type": "display_data"
    },
    {
     "name": "stdout",
     "output_type": "stream",
     "text": [
      "Successfully configured all paramaters for this run.\n"
     ]
    }
   ],
   "source": [
    "#\n",
    "# CONFIGURE RUN-TIME PARAMETERS FOR THIS NOTEBOOK\n",
    "#\n",
    "TENANT_ID = \" [ YOUR ID HERE ] \"\n",
    "CLIENT_ID = \" [ YOUR ID HERE ] \"\n",
    "CLIENT_SECRET = \" [ YOUR ID HERE ] \"\n",
    "\n",
    "WORKSPACE_ID = \" [ YOUR ID HERE ] \"\n",
    "DATASET_ID = \" [ YOUR ID HERE ] \"\n",
    "\n",
    "print(\"Successfully configured all paramaters for this run.\")"
   ]
  },
  {
   "cell_type": "code",
   "execution_count": 7,
   "id": "ae1c9110-2653-46e6-b388-0b990017ba44",
   "metadata": {
    "microsoft": {
     "language": "python",
     "language_group": "synapse_pyspark"
    }
   },
   "outputs": [
    {
     "data": {
      "application/vnd.livy.statement-meta+json": {
       "execution_finish_time": "2025-02-08T16:34:36.903326Z",
       "execution_start_time": "2025-02-08T16:34:36.6605367Z",
       "livy_statement_state": "available",
       "normalized_state": "finished",
       "parent_msg_id": "b625b2db-7834-423f-8808-123281599d46",
       "queued_time": "2025-02-08T16:34:36.523317Z",
       "session_id": "c5e530bb-9e39-4188-96de-a390e451f2c7",
       "session_start_time": null,
       "spark_pool": null,
       "state": "finished",
       "statement_id": 9,
       "statement_ids": [
        9
       ]
      },
      "text/plain": [
       "StatementMeta(, c5e530bb-9e39-4188-96de-a390e451f2c7, 9, Finished, Available, Finished)"
      ]
     },
     "metadata": {},
     "output_type": "display_data"
    },
    {
     "name": "stdout",
     "output_type": "stream",
     "text": [
      "Successfully imported all packages for this notebook.\n"
     ]
    }
   ],
   "source": [
    "#\n",
    "# Import Packages Required for this Notebook\n",
    "#\n",
    "import requests\n",
    "import json\n",
    "import msal\n",
    "import time\n",
    "\n",
    "print(\"Successfully imported all packages for this notebook.\")"
   ]
  },
  {
   "cell_type": "code",
   "execution_count": 6,
   "id": "56b7f45c-c889-4dda-ad69-dc9a013c8517",
   "metadata": {
    "microsoft": {
     "language": "python",
     "language_group": "synapse_pyspark"
    }
   },
   "outputs": [
    {
     "data": {
      "application/vnd.livy.statement-meta+json": {
       "execution_finish_time": "2025-02-08T16:32:01.6065244Z",
       "execution_start_time": "2025-02-08T16:32:00.7727203Z",
       "livy_statement_state": "available",
       "normalized_state": "finished",
       "parent_msg_id": "fc054b66-be20-45c6-9640-b6ffd2ad7125",
       "queued_time": "2025-02-08T16:32:00.6364148Z",
       "session_id": "c5e530bb-9e39-4188-96de-a390e451f2c7",
       "session_start_time": null,
       "spark_pool": null,
       "state": "finished",
       "statement_id": 8,
       "statement_ids": [
        8
       ]
      },
      "text/plain": [
       "StatementMeta(, c5e530bb-9e39-4188-96de-a390e451f2c7, 8, Finished, Available, Finished)"
      ]
     },
     "metadata": {},
     "output_type": "display_data"
    },
    {
     "name": "stdout",
     "output_type": "stream",
     "text": [
      "✅ Access Token Retrieved Successfully!\n"
     ]
    }
   ],
   "source": [
    "#\n",
    "# Connect to Fabric and get the authorization token\n",
    "#\n",
    "\n",
    "# Azure AD Details\n",
    "scope = [\"https://analysis.windows.net/powerbi/api/.default\"]  # Fabric API scope\n",
    "authority = f\"https://login.microsoftonline.com/{TENANT_ID}\"\n",
    "\n",
    "# Create an MSAL application instance\n",
    "app = msal.ConfidentialClientApplication(CLIENT_ID, CLIENT_SECRET, authority)\n",
    "\n",
    "# Get the Access Token\n",
    "token_response = app.acquire_token_for_client(scopes=scope)\n",
    "\n",
    "# Check if the token was retrieved successfully\n",
    "if \"access_token\" in token_response:\n",
    "    access_token = token_response[\"access_token\"]\n",
    "    print(\"✅ Access Token Retrieved Successfully!\")\n",
    "else:\n",
    "    print(f\"❌ Error getting access token: {token_response.get('error_description')}\")"
   ]
  },
  {
   "cell_type": "code",
   "execution_count": 13,
   "id": "c68ce195-b899-4bc6-8221-f3a811ae147d",
   "metadata": {
    "microsoft": {
     "language": "python",
     "language_group": "synapse_pyspark"
    }
   },
   "outputs": [
    {
     "data": {
      "application/vnd.livy.statement-meta+json": {
       "execution_finish_time": "2025-02-08T17:03:18.1338221Z",
       "execution_start_time": "2025-02-08T17:03:17.3462942Z",
       "livy_statement_state": "available",
       "normalized_state": "finished",
       "parent_msg_id": "23d7c011-b126-445b-a1f6-8544b78d0068",
       "queued_time": "2025-02-08T17:03:17.1746792Z",
       "session_id": "c5e530bb-9e39-4188-96de-a390e451f2c7",
       "session_start_time": null,
       "spark_pool": null,
       "state": "finished",
       "statement_id": 15,
       "statement_ids": [
        15
       ]
      },
      "text/plain": [
       "StatementMeta(, c5e530bb-9e39-4188-96de-a390e451f2c7, 15, Finished, Available, Finished)"
      ]
     },
     "metadata": {},
     "output_type": "display_data"
    },
    {
     "name": "stdout",
     "output_type": "stream",
     "text": [
      "✅ Refresh successfully submitted for the Fabric Semantic Model!\n"
     ]
    }
   ],
   "source": [
    "#\n",
    "# Refresh the Warehouse semantic model (dataset) in the GOLD layer\n",
    "#\n",
    "\n",
    "# API Headers with Access Token\n",
    "headers = {\n",
    "    \"Authorization\": f\"Bearer {access_token}\",\n",
    "    \"Content-Type\": \"application/json\"\n",
    "}\n",
    "\n",
    "# Power BI API URL\n",
    "url = f\"https://api.powerbi.com/v1.0/myorg/groups/{WORKSPACE_ID}/datasets/{DATASET_ID}/refreshes\"\n",
    "\n",
    "# Execute the Power BI REST API\n",
    "response = requests.post(url, headers=headers)\n",
    "if response.status_code == 202:\n",
    "    print(\"✅ Refresh successfully submitted for the Fabric Semantic Model!\")\n",
    "else:\n",
    "    print(\"❌ Error:\", response.text)"
   ]
  },
  {
   "cell_type": "code",
   "execution_count": 27,
   "id": "1d58498b-f058-4f9d-9f90-fa13c5017beb",
   "metadata": {
    "microsoft": {
     "language": "python",
     "language_group": "synapse_pyspark"
    }
   },
   "outputs": [
    {
     "data": {
      "application/vnd.livy.statement-meta+json": {
       "execution_finish_time": "2025-02-08T17:16:21.8631965Z",
       "execution_start_time": "2025-02-08T17:16:21.0382247Z",
       "livy_statement_state": "available",
       "normalized_state": "finished",
       "parent_msg_id": "ec98f675-8c77-4cb0-92a2-7324b6a4bb32",
       "queued_time": "2025-02-08T17:16:20.8942548Z",
       "session_id": "c5e530bb-9e39-4188-96de-a390e451f2c7",
       "session_start_time": null,
       "spark_pool": null,
       "state": "finished",
       "statement_id": 29,
       "statement_ids": [
        29
       ]
      },
      "text/plain": [
       "StatementMeta(, c5e530bb-9e39-4188-96de-a390e451f2c7, 29, Finished, Available, Finished)"
      ]
     },
     "metadata": {},
     "output_type": "display_data"
    },
    {
     "name": "stdout",
     "output_type": "stream",
     "text": [
      "🟢 Current status: Completed\n",
      "✅ Dataset refresh completed successfully!\n"
     ]
    }
   ],
   "source": [
    "#\n",
    "# Check the Warehouse semantic model (dataset) refresh\n",
    "#\n",
    "\n",
    "# API Headers with Access Token\n",
    "headers = {\n",
    "    \"Authorization\": f\"Bearer {access_token}\",\n",
    "    \"Content-Type\": \"application/json\"\n",
    "}\n",
    "\n",
    "# Power BI API URL\n",
    "url = f\"https://api.powerbi.com/v1.0/myorg/groups/{WORKSPACE_ID}/datasets/{DATASET_ID}/refreshes\"\n",
    "\n",
    "# Function to check the refresh status and return when done\n",
    "def check_refresh_status():\n",
    "    \"\"\"Polls the API until the dataset refresh is 'Completed' or 'Failed'.\"\"\"\n",
    "    while True:\n",
    "        response = requests.get(url, headers=headers)\n",
    "\n",
    "        if response.status_code == 202:\n",
    "            print(\"🔄 Refresh request accepted. Waiting before polling again...\")\n",
    "            time.sleep(10)\n",
    "            continue  # Skip the rest and retry\n",
    "\n",
    "        if response.status_code == 200:\n",
    "            try:\n",
    "                response_json = response.json()\n",
    "                refreshes = response_json.get(\"value\", [])\n",
    "                if refreshes:\n",
    "                    latest_refresh = refreshes[0]  # Get the most recent refresh\n",
    "                    status = latest_refresh.get(\"status\")\n",
    "                    print(f\"🟢 Current status: {status}\")\n",
    "\n",
    "                    if status == \"Completed\":\n",
    "                        print(\"✅ Dataset refresh completed successfully!\")\n",
    "                        break\n",
    "                    elif status in [\"Failed\", \"Unknown\"]:\n",
    "                        print(\"❌ Dataset refresh failed or encountered an issue.\")\n",
    "                        break\n",
    "                else:\n",
    "                    print(\"⚠️ No refresh history found.\")\n",
    "                    break\n",
    "            except json.JSONDecodeError as e:\n",
    "                print(f\"❌ JSON decoding error: {e}. Raw response: {response.text}\")\n",
    "                break\n",
    "        else:\n",
    "            print(f\"❌ Error fetching refresh status: {response.status_code} - {response.text}\")\n",
    "            break\n",
    "\n",
    "        time.sleep(10)  # Wait 10 seconds before checking again\n",
    "\n",
    "# Start polling\n",
    "check_refresh_status()"
   ]
  }
 ],
 "metadata": {
  "dependencies": {},
  "kernel_info": {
   "name": "synapse_pyspark"
  },
  "kernelspec": {
   "display_name": "Synapse PySpark",
   "language": "Python",
   "name": "synapse_pyspark"
  },
  "language_info": {
   "name": "python"
  },
  "microsoft": {
   "language": "python",
   "language_group": "synapse_pyspark",
   "ms_spell_check": {
    "ms_spell_check_language": "en"
   }
  },
  "nteract": {
   "version": "nteract-front-end@1.0.0"
  },
  "spark_compute": {
   "compute_id": "/trident/default",
   "session_options": {
    "conf": {
     "spark.synapse.nbs.session.timeout": "1200000"
    }
   }
  }
 },
 "nbformat": 4,
 "nbformat_minor": 5
}
