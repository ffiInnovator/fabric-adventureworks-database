{
 "cells": [
  {
   "cell_type": "code",
   "execution_count": null,
   "id": "850525cd-07f9-4156-8521-14be03918bad",
   "metadata": {
    "microsoft": {
     "language": "python",
     "language_group": "jupyter_python"
    }
   },
   "outputs": [
    {
     "data": {
      "application/vnd.jupyter.statement-meta+json": {
       "execution_finish_time": "2025-02-08T17:49:35.8740209Z",
       "execution_start_time": "2025-02-08T17:49:35.4394961Z",
       "normalized_state": "finished",
       "parent_msg_id": "be511a93-c3d1-4336-b217-3d2d3ab4ade4",
       "queued_time": "2025-02-08T17:49:35.4382269Z",
       "session_id": "4004b6fc-0976-4b91-a333-022ec61704d9",
       "session_start_time": null
      }
     },
     "metadata": {},
     "output_type": "display_data"
    },
    {
     "name": "stdout",
     "output_type": "stream",
     "text": [
      "✅ Successfully configured all paramaters for this run.\n"
     ]
    }
   ],
   "source": [
    "#\n",
    "# CONFIGURE RUN-TIME PARAMETERS FOR THIS NOTEBOOK\n",
    "#\n",
    "SERVER = \" [ YOUR ID HERE ] .datawarehouse.fabric.microsoft.com\"\n",
    "DATABASE = \"AdventureWorks_Warehouse\"\n",
    "DB_SCHEMA = \"dbo\"\n",
    "CLIENT_ID = \" [ YOUR ID HERE ] \"\n",
    "CLIENT_SECRET = \" [ YOUR ID HERE ] \"\n",
    "\n",
    "print(\"✅ Successfully configured all paramaters for this run.\")"
   ]
  },
  {
   "cell_type": "code",
   "execution_count": 37,
   "id": "ad97af66-b6d8-4a0f-948d-0bdfb9ea4083",
   "metadata": {
    "microsoft": {
     "language": "python",
     "language_group": "jupyter_python"
    }
   },
   "outputs": [
    {
     "data": {
      "application/vnd.jupyter.statement-meta+json": {
       "execution_finish_time": "2025-02-08T17:54:07.1566601Z",
       "execution_start_time": "2025-02-08T17:54:06.8076748Z",
       "normalized_state": "finished",
       "parent_msg_id": "63b7dc63-7cfa-43dd-aa4b-4aa2bb288ae9",
       "queued_time": "2025-02-08T17:54:06.806388Z",
       "session_id": "4004b6fc-0976-4b91-a333-022ec61704d9",
       "session_start_time": null
      }
     },
     "metadata": {},
     "output_type": "display_data"
    },
    {
     "name": "stdout",
     "output_type": "stream",
     "text": [
      "✅ Successfully imported all packages for this notebook.\n",
      "PyOdbc drivers available: ['ODBC Driver 18 for SQL Server']\n"
     ]
    }
   ],
   "source": [
    "#\n",
    "# Import Packages Required for this Notebook\n",
    "#\n",
    "import pyodbc\n",
    "import textwrap\n",
    "\n",
    "print(\"✅ Successfully imported all packages for this notebook.\")\n",
    "print(f\"PyOdbc drivers available: {pyodbc.drivers()}\")"
   ]
  },
  {
   "cell_type": "code",
   "execution_count": 34,
   "id": "71eccf53-e25d-4020-89db-3a68178eeca7",
   "metadata": {
    "microsoft": {
     "language": "python",
     "language_group": "jupyter_python"
    }
   },
   "outputs": [
    {
     "data": {
      "application/vnd.jupyter.statement-meta+json": {
       "execution_finish_time": "2025-02-08T17:50:06.6535114Z",
       "execution_start_time": "2025-02-08T17:50:05.3447515Z",
       "normalized_state": "finished",
       "parent_msg_id": "92e28272-e167-4f79-8f0d-312139c9f5f7",
       "queued_time": "2025-02-08T17:50:05.3434713Z",
       "session_id": "4004b6fc-0976-4b91-a333-022ec61704d9",
       "session_start_time": null
      }
     },
     "metadata": {},
     "output_type": "display_data"
    },
    {
     "name": "stdout",
     "output_type": "stream",
     "text": [
      "🔍 Successfully opened Connection ID (SPID): 54 to the Fabic Warehouse.\n"
     ]
    }
   ],
   "source": [
    "#\n",
    "# Create the SQL connection to the Fabric Warehouse\n",
    "#\n",
    "\n",
    "conn_str = f\"\"\"\n",
    "DRIVER={{ODBC Driver 18 for SQL Server}};\n",
    "SERVER={SERVER};\n",
    "DATABASE={DATABASE};\n",
    "Initial Catalog={DB_SCHEMA};\n",
    "Authentication=ActiveDirectoryServicePrincipal;\n",
    "UID={CLIENT_ID};\n",
    "PWD={CLIENT_SECRET};\n",
    "\"\"\"\n",
    "\n",
    "# Create the connection\n",
    "conn = pyodbc.connect(conn_str)\n",
    "cursor = conn.cursor()\n",
    "cursor.execute(\"SELECT @@SPID\")\n",
    "spid = cursor.fetchone()[0]\n",
    "cursor.close()\n",
    "\n",
    "print(f\"🔍 Successfully opened Connection ID (SPID): {spid} to the Fabic Warehouse.\")"
   ]
  },
  {
   "cell_type": "code",
   "execution_count": 35,
   "id": "ba1feb7c-6a9d-471d-b6bd-4492152fd749",
   "metadata": {
    "microsoft": {
     "language": "python",
     "language_group": "jupyter_python"
    }
   },
   "outputs": [
    {
     "data": {
      "application/vnd.jupyter.statement-meta+json": {
       "execution_finish_time": "2025-02-08T17:50:43.8406672Z",
       "execution_start_time": "2025-02-08T17:50:43.0524466Z",
       "normalized_state": "finished",
       "parent_msg_id": "e0666f3a-2edd-4181-a4be-00e91f4d5aa0",
       "queued_time": "2025-02-08T17:50:43.0511715Z",
       "session_id": "4004b6fc-0976-4b91-a333-022ec61704d9",
       "session_start_time": null
      }
     },
     "metadata": {},
     "output_type": "display_data"
    },
    {
     "name": "stdout",
     "output_type": "stream",
     "text": [
      "✅ Successfully extracted 45 forgein key relationships from the database 'AdventureWorks_Warehouse'.\n"
     ]
    }
   ],
   "source": [
    "#\n",
    "# Get Foreign Key Relationships from the Fabric Warehouse\n",
    "#\n",
    "\n",
    "cursor = conn.cursor()\n",
    "\n",
    "cursor.execute(\"\"\"\n",
    "WITH RelationshipCounts AS (\n",
    "    SELECT \n",
    "        fk.name AS FK_Name, fk_tab.name AS FK_Table, c1.name AS FK_Column, pk.name AS PK_Table, c2.name AS PK_Column,\n",
    "        CASE \n",
    "            -- One-to-One: FK column has a unique index AND PK column has a unique index\n",
    "            WHEN fk_is_unique.index_id IS NOT NULL AND pk_is_unique.index_id IS NOT NULL THEN 'One-to-One'\n",
    "            -- Many-to-One: FK is NOT unique, but PK has a unique index\n",
    "            WHEN pk_is_unique.index_id IS NOT NULL THEN 'Many-to-One'\n",
    "            -- Many-to-Many: Neither FK nor PK have unique constraints\n",
    "            ELSE 'Many-to-Many'\n",
    "        END AS Cardinality,\n",
    "        COUNT(*) OVER (PARTITION BY pk.name, c2.name) AS PK_Reference_Count\n",
    "    FROM sys.foreign_keys AS fk\n",
    "    JOIN sys.foreign_key_columns AS fkc ON fk.object_id = fkc.constraint_object_id\n",
    "    JOIN sys.tables AS fk_tab ON fk_tab.object_id = fkc.parent_object_id\n",
    "    JOIN sys.columns AS c1 ON fkc.parent_column_id = c1.column_id \n",
    "        AND fkc.parent_object_id = c1.object_id\n",
    "    JOIN sys.tables AS pk ON pk.object_id = fkc.referenced_object_id\n",
    "    JOIN sys.columns AS c2 ON fkc.referenced_column_id = c2.column_id \n",
    "        AND fkc.referenced_object_id = c2.object_id\n",
    "    -- Check if the referenced (PK) column is unique\n",
    "    LEFT JOIN sys.index_columns AS pk_index_cols ON c2.object_id = pk_index_cols.object_id \n",
    "        AND c2.column_id = pk_index_cols.column_id\n",
    "    LEFT JOIN sys.indexes AS pk_is_unique ON pk_index_cols.object_id = pk_is_unique.object_id \n",
    "        AND pk_index_cols.index_id = pk_is_unique.index_id \n",
    "        AND pk_is_unique.is_unique = 1  \n",
    "        AND pk_is_unique.type IN (1, 2) -- Clustered or Non-clustered Unique Index\n",
    "    -- Check if the foreign key (FK) column is unique\n",
    "    LEFT JOIN sys.index_columns AS fk_index_cols ON c1.object_id = fk_index_cols.object_id \n",
    "        AND c1.column_id = fk_index_cols.column_id\n",
    "    LEFT JOIN sys.indexes AS fk_is_unique ON fk_index_cols.object_id = fk_is_unique.object_id \n",
    "        AND fk_index_cols.index_id = fk_is_unique.index_id \n",
    "        AND fk_is_unique.is_unique = 1  \n",
    "        AND fk_is_unique.type IN (1, 2) -- Clustered or Non-clustered Unique Index\n",
    ")\n",
    "SELECT \n",
    "    FK_Name, FK_Table, FK_Column, PK_Table, PK_Column, Cardinality\n",
    "FROM RelationshipCounts\n",
    "WHERE Cardinality = 'Many-to-One' \n",
    "AND PK_Reference_Count > 1    \n",
    "ORDER BY FK_Name, PK_Table, PK_Column;\n",
    "\"\"\")\n",
    "\n",
    "# Fetch the results\n",
    "relationships = cursor.fetchall()\n",
    "\n",
    "print(f\"✅ Successfully extracted {len(relationships):,} forgein key relationships from the database '{DATABASE}'.\")"
   ]
  },
  {
   "cell_type": "code",
   "execution_count": 39,
   "id": "2e4eea30-20d3-406f-93d5-2deb859dcd62",
   "metadata": {
    "microsoft": {
     "language": "python",
     "language_group": "jupyter_python"
    }
   },
   "outputs": [
    {
     "data": {
      "application/vnd.jupyter.statement-meta+json": {
       "execution_finish_time": "2025-02-08T18:01:36.4101723Z",
       "execution_start_time": "2025-02-08T18:01:36.0660679Z",
       "normalized_state": "finished",
       "parent_msg_id": "4e455ad1-1553-401c-ad86-d1ec3997e410",
       "queued_time": "2025-02-08T18:01:36.0646959Z",
       "session_id": "4004b6fc-0976-4b91-a333-022ec61704d9",
       "session_start_time": null
      }
     },
     "metadata": {},
     "output_type": "display_data"
    },
    {
     "name": "stdout",
     "output_type": "stream",
     "text": [
      "✅ Successfully created TMDL output:\n",
      "\n",
      "relationship FK_DimAccount_DimAccount\n",
      "    crossFilteringBehavior: oneDirection\n",
      "    fromColumn: DimAccount.ParentAccountKey\n",
      "    toColumn: DimAccount.AccountKey\n",
      "    fromCardinality: many\n",
      "    toCardinality: one\n",
      "\n",
      "relationship FK_DimCustomer_DimGeography\n",
      "    crossFilteringBehavior: oneDirection\n",
      "    fromColumn: DimCustomer.GeographyKey\n",
      "    toColumn: DimGeography.GeographyKey\n",
      "    fromCardinality: many\n",
      "    toCardinality: one\n",
      "\n",
      "relationship FK_DimDepartmentGroup_DimDepartmentGroup\n",
      "    crossFilteringBehavior: oneDirection\n",
      "    fromColumn: DimDepartmentGroup.ParentDepartmentGroupKey\n",
      "    toColumn: DimDepartmentGroup.DepartmentGroupKey\n",
      "    fromCardinality: many\n",
      "    toCardinality: one\n",
      "\n",
      "relationship FK_DimEmployee_DimEmployee\n",
      "    crossFilteringBehavior: oneDirection\n",
      "    fromColumn: DimEmployee.ParentEmployeeKey\n",
      "    toColumn: DimEmployee.EmployeeKey\n",
      "    fromCardinality: many\n",
      "    toCardinality: one\n",
      "\n",
      "relationship FK_DimEmployee_DimSalesTerritory\n",
      "    crossFilteringBehavior: oneDirection\n",
      "    fromColumn: DimEmployee.SalesTerritoryKey\n",
      "    toColumn: DimSalesTerritory.SalesTerritoryKey\n",
      "    fromCardinality: many\n",
      "    toCardinality: one\n",
      "\n",
      "relationship FK_DimGeography_DimSalesTerritory\n",
      "    crossFilteringBehavior: oneDirection\n",
      "    fromColumn: DimGeography.SalesTerritoryKey\n",
      "    toColumn: DimSalesTerritory.SalesTerritoryKey\n",
      "    fromCardinality: many\n",
      "    toCardinality: one\n",
      "\n",
      "relationship FK_DimOrganization_DimCurrency\n",
      "    crossFilteringBehavior: oneDirection\n",
      "    fromColumn: DimOrganization.CurrencyKey\n",
      "    toColumn: DimCurrency.CurrencyKey\n",
      "    fromCardinality: many\n",
      "    toCardinality: one\n",
      "\n",
      "relationship FK_DimOrganization_DimOrganization\n",
      "    crossFilteringBehavior: oneDirection\n",
      "    fromColumn: DimOrganization.ParentOrganizationKey\n",
      "    toColumn: DimOrganization.OrganizationKey\n",
      "    fromCardinality: many\n",
      "    toCardinality: one\n",
      "\n",
      "relationship FK_DimProductSubcategory_DimProductCategory\n",
      "    crossFilteringBehavior: oneDirection\n",
      "    fromColumn: DimProductSubcategory.ProductCategoryKey\n",
      "    toColumn: DimProductCategory.ProductCategoryKey\n",
      "    fromCardinality: many\n",
      "    toCardinality: one\n",
      "\n",
      "relationship FK_DimProduct_DimProductSubcategory\n",
      "    crossFilteringBehavior: oneDirection\n",
      "    fromColumn: DimProduct.ProductSubcategoryKey\n",
      "    toColumn: DimProductSubcategory.ProductSubcategoryKey\n",
      "    fromCardinality: many\n",
      "    toCardinality: one\n",
      "\n",
      "relationship FK_DimReseller_DimGeography\n",
      "    crossFilteringBehavior: oneDirection\n",
      "    fromColumn: DimReseller.GeographyKey\n",
      "    toColumn: DimGeography.GeographyKey\n",
      "    fromCardinality: many\n",
      "    toCardinality: one\n",
      "\n",
      "relationship FK_FactCallCenter_DimDate\n",
      "    crossFilteringBehavior: oneDirection\n",
      "    fromColumn: FactCallCenter.DateKey\n",
      "    toColumn: DimDate.DateKey\n",
      "    fromCardinality: many\n",
      "    toCardinality: one\n",
      "\n",
      "relationship FK_FactCurrencyRate_DimCurrency\n",
      "    crossFilteringBehavior: oneDirection\n",
      "    fromColumn: FactCurrencyRate.CurrencyKey\n",
      "    toColumn: DimCurrency.CurrencyKey\n",
      "    fromCardinality: many\n",
      "    toCardinality: one\n",
      "\n",
      "relationship FK_FactCurrencyRate_DimDate\n",
      "    crossFilteringBehavior: oneDirection\n",
      "    fromColumn: FactCurrencyRate.DateKey\n",
      "    toColumn: DimDate.DateKey\n",
      "    fromCardinality: many\n",
      "    toCardinality: one\n",
      "\n",
      "relationship FK_FactFinance_DimAccount\n",
      "    crossFilteringBehavior: oneDirection\n",
      "    fromColumn: FactFinance.AccountKey\n",
      "    toColumn: DimAccount.AccountKey\n",
      "    fromCardinality: many\n",
      "    toCardinality: one\n",
      "\n",
      "relationship FK_FactFinance_DimDate\n",
      "    crossFilteringBehavior: oneDirection\n",
      "    fromColumn: FactFinance.DateKey\n",
      "    toColumn: DimDate.DateKey\n",
      "    fromCardinality: many\n",
      "    toCardinality: one\n",
      "\n",
      "relationship FK_FactFinance_DimDepartmentGroup\n",
      "    crossFilteringBehavior: oneDirection\n",
      "    fromColumn: FactFinance.DepartmentGroupKey\n",
      "    toColumn: DimDepartmentGroup.DepartmentGroupKey\n",
      "    fromCardinality: many\n",
      "    toCardinality: one\n",
      "\n",
      "relationship FK_FactFinance_DimOrganization\n",
      "    crossFilteringBehavior: oneDirection\n",
      "    fromColumn: FactFinance.OrganizationKey\n",
      "    toColumn: DimOrganization.OrganizationKey\n",
      "    fromCardinality: many\n",
      "    toCardinality: one\n",
      "\n",
      "relationship FK_FactFinance_DimScenario\n",
      "    crossFilteringBehavior: oneDirection\n",
      "    fromColumn: FactFinance.ScenarioKey\n",
      "    toColumn: DimScenario.ScenarioKey\n",
      "    fromCardinality: many\n",
      "    toCardinality: one\n",
      "\n",
      "relationship FK_FactInternetSalesReason_DimSalesReason\n",
      "    crossFilteringBehavior: oneDirection\n",
      "    fromColumn: FactInternetSalesReason.SalesReasonKey\n",
      "    toColumn: DimSalesReason.SalesReasonKey\n",
      "    fromCardinality: many\n",
      "    toCardinality: one\n",
      "\n",
      "relationship FK_FactInternetSalesReason_FactInternetSales\n",
      "    crossFilteringBehavior: oneDirection\n",
      "    fromColumn: FactInternetSalesReason.SalesOrderLineNumber\n",
      "    toColumn: FactInternetSales.SalesOrderLineNumber\n",
      "    fromCardinality: many\n",
      "    toCardinality: one\n",
      "\n",
      "relationship FK_FactInternetSalesReason_FactInternetSales_2\n",
      "    crossFilteringBehavior: oneDirection\n",
      "    fromColumn: FactInternetSalesReason.SalesOrderNumber\n",
      "    toColumn: FactInternetSales.SalesOrderNumber\n",
      "    fromCardinality: many\n",
      "    toCardinality: one\n",
      "\n",
      "relationship FK_FactInternetSales_DimCurrency\n",
      "    crossFilteringBehavior: oneDirection\n",
      "    fromColumn: FactInternetSales.CurrencyKey\n",
      "    toColumn: DimCurrency.CurrencyKey\n",
      "    fromCardinality: many\n",
      "    toCardinality: one\n",
      "\n",
      "relationship FK_FactInternetSales_DimCustomer\n",
      "    crossFilteringBehavior: oneDirection\n",
      "    fromColumn: FactInternetSales.CustomerKey\n",
      "    toColumn: DimCustomer.CustomerKey\n",
      "    fromCardinality: many\n",
      "    toCardinality: one\n",
      "\n",
      "relationship FK_FactInternetSales_DimDate\n",
      "    crossFilteringBehavior: oneDirection\n",
      "    fromColumn: FactInternetSales.OrderDateKey\n",
      "    toColumn: DimDate.DateKey\n",
      "    fromCardinality: many\n",
      "    toCardinality: one\n",
      "\n",
      "relationship FK_FactInternetSales_DimDate1\n",
      "    crossFilteringBehavior: oneDirection\n",
      "    fromColumn: FactInternetSales.DueDateKey\n",
      "    toColumn: DimDate.DateKey\n",
      "    fromCardinality: many\n",
      "    toCardinality: one\n",
      "\n",
      "relationship FK_FactInternetSales_DimDate2\n",
      "    crossFilteringBehavior: oneDirection\n",
      "    fromColumn: FactInternetSales.ShipDateKey\n",
      "    toColumn: DimDate.DateKey\n",
      "    fromCardinality: many\n",
      "    toCardinality: one\n",
      "\n",
      "relationship FK_FactInternetSales_DimProduct\n",
      "    crossFilteringBehavior: oneDirection\n",
      "    fromColumn: FactInternetSales.ProductKey\n",
      "    toColumn: DimProduct.ProductKey\n",
      "    fromCardinality: many\n",
      "    toCardinality: one\n",
      "\n",
      "relationship FK_FactInternetSales_DimPromotion\n",
      "    crossFilteringBehavior: oneDirection\n",
      "    fromColumn: FactInternetSales.PromotionKey\n",
      "    toColumn: DimPromotion.PromotionKey\n",
      "    fromCardinality: many\n",
      "    toCardinality: one\n",
      "\n",
      "relationship FK_FactInternetSales_DimSalesTerritory\n",
      "    crossFilteringBehavior: oneDirection\n",
      "    fromColumn: FactInternetSales.SalesTerritoryKey\n",
      "    toColumn: DimSalesTerritory.SalesTerritoryKey\n",
      "    fromCardinality: many\n",
      "    toCardinality: one\n",
      "\n",
      "relationship FK_FactProductInventory_DimDate\n",
      "    crossFilteringBehavior: oneDirection\n",
      "    fromColumn: FactProductInventory.DateKey\n",
      "    toColumn: DimDate.DateKey\n",
      "    fromCardinality: many\n",
      "    toCardinality: one\n",
      "\n",
      "relationship FK_FactProductInventory_DimProduct\n",
      "    crossFilteringBehavior: oneDirection\n",
      "    fromColumn: FactProductInventory.ProductKey\n",
      "    toColumn: DimProduct.ProductKey\n",
      "    fromCardinality: many\n",
      "    toCardinality: one\n",
      "\n",
      "relationship FK_FactResellerSales_DimCurrency\n",
      "    crossFilteringBehavior: oneDirection\n",
      "    fromColumn: FactResellerSales.CurrencyKey\n",
      "    toColumn: DimCurrency.CurrencyKey\n",
      "    fromCardinality: many\n",
      "    toCardinality: one\n",
      "\n",
      "relationship FK_FactResellerSales_DimDate\n",
      "    crossFilteringBehavior: oneDirection\n",
      "    fromColumn: FactResellerSales.OrderDateKey\n",
      "    toColumn: DimDate.DateKey\n",
      "    fromCardinality: many\n",
      "    toCardinality: one\n",
      "\n",
      "relationship FK_FactResellerSales_DimDate1\n",
      "    crossFilteringBehavior: oneDirection\n",
      "    fromColumn: FactResellerSales.DueDateKey\n",
      "    toColumn: DimDate.DateKey\n",
      "    fromCardinality: many\n",
      "    toCardinality: one\n",
      "\n",
      "relationship FK_FactResellerSales_DimDate2\n",
      "    crossFilteringBehavior: oneDirection\n",
      "    fromColumn: FactResellerSales.ShipDateKey\n",
      "    toColumn: DimDate.DateKey\n",
      "    fromCardinality: many\n",
      "    toCardinality: one\n",
      "\n",
      "relationship FK_FactResellerSales_DimEmployee\n",
      "    crossFilteringBehavior: oneDirection\n",
      "    fromColumn: FactResellerSales.EmployeeKey\n",
      "    toColumn: DimEmployee.EmployeeKey\n",
      "    fromCardinality: many\n",
      "    toCardinality: one\n",
      "\n",
      "relationship FK_FactResellerSales_DimProduct\n",
      "    crossFilteringBehavior: oneDirection\n",
      "    fromColumn: FactResellerSales.ProductKey\n",
      "    toColumn: DimProduct.ProductKey\n",
      "    fromCardinality: many\n",
      "    toCardinality: one\n",
      "\n",
      "relationship FK_FactResellerSales_DimPromotion\n",
      "    crossFilteringBehavior: oneDirection\n",
      "    fromColumn: FactResellerSales.PromotionKey\n",
      "    toColumn: DimPromotion.PromotionKey\n",
      "    fromCardinality: many\n",
      "    toCardinality: one\n",
      "\n",
      "relationship FK_FactResellerSales_DimReseller\n",
      "    crossFilteringBehavior: oneDirection\n",
      "    fromColumn: FactResellerSales.ResellerKey\n",
      "    toColumn: DimReseller.ResellerKey\n",
      "    fromCardinality: many\n",
      "    toCardinality: one\n",
      "\n",
      "relationship FK_FactResellerSales_DimSalesTerritory\n",
      "    crossFilteringBehavior: oneDirection\n",
      "    fromColumn: FactResellerSales.SalesTerritoryKey\n",
      "    toColumn: DimSalesTerritory.SalesTerritoryKey\n",
      "    fromCardinality: many\n",
      "    toCardinality: one\n",
      "\n",
      "relationship FK_FactSalesQuota_DimDate\n",
      "    crossFilteringBehavior: oneDirection\n",
      "    fromColumn: FactSalesQuota.DateKey\n",
      "    toColumn: DimDate.DateKey\n",
      "    fromCardinality: many\n",
      "    toCardinality: one\n",
      "\n",
      "relationship FK_FactSalesQuota_DimEmployee\n",
      "    crossFilteringBehavior: oneDirection\n",
      "    fromColumn: FactSalesQuota.EmployeeKey\n",
      "    toColumn: DimEmployee.EmployeeKey\n",
      "    fromCardinality: many\n",
      "    toCardinality: one\n",
      "\n",
      "relationship FK_FactSurveyResponse_CustomerKey\n",
      "    crossFilteringBehavior: oneDirection\n",
      "    fromColumn: FactSurveyResponse.CustomerKey\n",
      "    toColumn: DimCustomer.CustomerKey\n",
      "    fromCardinality: many\n",
      "    toCardinality: one\n",
      "\n",
      "relationship FK_FactSurveyResponse_DateKey\n",
      "    crossFilteringBehavior: oneDirection\n",
      "    fromColumn: FactSurveyResponse.DateKey\n",
      "    toColumn: DimDate.DateKey\n",
      "    fromCardinality: many\n",
      "    toCardinality: one\n",
      "\n"
     ]
    }
   ],
   "source": [
    "#\n",
    "# Convert the results into TMDL format\n",
    "#\n",
    "\n",
    "tmdl_output = \"\"\n",
    "\n",
    "previous_fk_name = None\n",
    "fk_name_counter = 1\n",
    "\n",
    "for row in relationships:\n",
    "    fk_name = row.FK_Name\n",
    "    from_table = row.FK_Table\n",
    "    from_column = row.FK_Column\n",
    "    to_table = row.PK_Table\n",
    "    to_column = row.PK_Column\n",
    "    cardinality = row.Cardinality\n",
    "\n",
    "    # Check if the current fk_name is the same as the previous one\n",
    "    if fk_name == previous_fk_name:\n",
    "        fk_name_counter += 1\n",
    "        fk_name = f\"{fk_name}_{fk_name_counter}\"\n",
    "    else:\n",
    "        fk_name_counter = 1  # Reset counter for new FK_Name\n",
    "\n",
    "    previous_fk_name = row.FK_Name  # Store the original FK name for comparison\n",
    "\n",
    "    # Convert SQL cardinality description to TMDL format\n",
    "    if cardinality == \"One-to-One\":\n",
    "        from_cardinality = \"one\"\n",
    "        to_cardinality = \"one\"\n",
    "    elif cardinality == \"Many-to-One\":\n",
    "        from_cardinality = \"many\"\n",
    "        to_cardinality = \"one\"\n",
    "    else:\n",
    "        from_cardinality = \"many\"\n",
    "        to_cardinality = \"many\"\n",
    "\n",
    "    # Format as TMDL relationship\n",
    "    tmdl_output += textwrap.dedent(f\"\"\"\n",
    "        relationship {fk_name}\n",
    "            crossFilteringBehavior: oneDirection\n",
    "            fromColumn: {from_table}.{from_column}\n",
    "            toColumn: {to_table}.{to_column}\n",
    "            fromCardinality: {from_cardinality}\n",
    "            toCardinality: {to_cardinality}\n",
    "    \"\"\")\n",
    "\n",
    "# Display the results\n",
    "print(f\"✅ Successfully created TMDL output:\\n{(tmdl_output)}\")"
   ]
  },
  {
   "cell_type": "code",
   "execution_count": 33,
   "id": "c6966a98-8f63-4293-b132-68a880458b86",
   "metadata": {
    "microsoft": {
     "language": "python",
     "language_group": "jupyter_python"
    }
   },
   "outputs": [
    {
     "data": {
      "application/vnd.jupyter.statement-meta+json": {
       "execution_finish_time": "2025-02-08T17:49:58.0968815Z",
       "execution_start_time": "2025-02-08T17:49:57.7432769Z",
       "normalized_state": "finished",
       "parent_msg_id": "c16b8b7d-834b-44c4-9ca9-49576209d3df",
       "queued_time": "2025-02-08T17:49:57.7419852Z",
       "session_id": "4004b6fc-0976-4b91-a333-022ec61704d9",
       "session_start_time": null
      }
     },
     "metadata": {},
     "output_type": "display_data"
    },
    {
     "name": "stdout",
     "output_type": "stream",
     "text": [
      "✅ Successfully closed the SQL connection to the Fabic Warehouse.\n"
     ]
    }
   ],
   "source": [
    "#\n",
    "# Close the SQL connection\n",
    "#\n",
    "\n",
    "conn.close()\n",
    "print(\"✅ Successfully closed the SQL connection to the Fabic Warehouse.\")"
   ]
  }
 ],
 "metadata": {
  "dependencies": {
   "warehouse": {
    "default_warehouse": "fcbdf876-ae83-4d7b-9fd4-4718c7bad3e2",
    "known_warehouses": [
     {
      "id": "fcbdf876-ae83-4d7b-9fd4-4718c7bad3e2",
      "type": "Datawarehouse"
     }
    ]
   }
  },
  "kernel_info": {
   "jupyter_kernel_name": "python3.11",
   "name": "jupyter"
  },
  "kernelspec": {
   "display_name": "Jupyter",
   "language": "Jupyter",
   "name": "jupyter"
  },
  "language_info": {
   "name": "python"
  },
  "microsoft": {
   "language": "python",
   "language_group": "jupyter_python",
   "ms_spell_check": {
    "ms_spell_check_language": "en"
   }
  },
  "nteract": {
   "version": "nteract-front-end@1.0.0"
  },
  "spark_compute": {
   "compute_id": "/trident/default",
   "session_options": {
    "conf": {
     "spark.synapse.nbs.session.timeout": "1200000"
    }
   }
  }
 },
 "nbformat": 4,
 "nbformat_minor": 5
}
